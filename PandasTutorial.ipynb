{
 "cells": [
  {
   "cell_type": "markdown",
   "metadata": {},
   "source": [
    "Requirements for this tutorial: \n",
    "1.Python Environment: Please visit https://youtu.be/4pQ2xFaU-C8 \n",
    "2.Install numpy: pip install pandas"
   ]
  },
  {
   "cell_type": "markdown",
   "metadata": {},
   "source": [
    "## Why Pandas?\n",
    "Python library which provides easy to use data structures and inbuilt methods to do data analysis. It is built on top of numpy.\n"
   ]
  },
  {
   "cell_type": "markdown",
   "metadata": {},
   "source": [
    "## Data structures in Pandas:\n",
    "1.Series\n",
    "2.DataFrame"
   ]
  },
  {
   "cell_type": "markdown",
   "metadata": {},
   "source": [
    "## 1.Series:\n",
    "1.One Dimensional labelled array\n",
    "2.Size immutable but value is mutable"
   ]
  },
  {
   "cell_type": "code",
   "execution_count": 1,
   "metadata": {},
   "outputs": [],
   "source": [
    "import numpy as np\n",
    "import pandas as pd"
   ]
  },
  {
   "cell_type": "code",
   "execution_count": 2,
   "metadata": {},
   "outputs": [
    {
     "name": "stdout",
     "output_type": "stream",
     "text": [
      "0       Lion\n",
      "1      Tiger\n",
      "2    Cheetah\n",
      "3    Panther\n",
      "dtype: object\n"
     ]
    }
   ],
   "source": [
    "##Creating series from array\n",
    "array_1=np.array(['Lion','Tiger','Cheetah','Panther'])\n",
    "series_way1=pd.Series(array_1)\n",
    "print(series_way1)"
   ]
  },
  {
   "cell_type": "code",
   "execution_count": 3,
   "metadata": {},
   "outputs": [
    {
     "name": "stdout",
     "output_type": "stream",
     "text": [
      "10       Lion\n",
      "20      Tiger\n",
      "30    Cheetah\n",
      "40    Panther\n",
      "dtype: object\n"
     ]
    }
   ],
   "source": [
    "#Creating series with label\n",
    "series_way2=pd.Series(array_1,index=[10,20,30,40])\n",
    "print(series_way2)"
   ]
  },
  {
   "cell_type": "code",
   "execution_count": 4,
   "metadata": {},
   "outputs": [
    {
     "name": "stdout",
     "output_type": "stream",
     "text": [
      "Maths        92\n",
      "Sanskrit     93\n",
      "Physics      94\n",
      "Chemistry    95\n",
      "dtype: int64\n"
     ]
    }
   ],
   "source": [
    "#Creating series with list\n",
    "list1=[92,93,94,95]\n",
    "series_way3=pd.Series(list1,index=['Maths','Sanskrit','Physics','Chemistry'])\n",
    "print(series_way3)"
   ]
  },
  {
   "cell_type": "code",
   "execution_count": 5,
   "metadata": {},
   "outputs": [
    {
     "name": "stdout",
     "output_type": "stream",
     "text": [
      "Maths        92\n",
      "Sanskrit     93\n",
      "Physics      94\n",
      "Chemistry    95\n",
      "dtype: int64\n"
     ]
    }
   ],
   "source": [
    "#Creating series with dictionary\n",
    "dictionary1={'Maths':92,'Sanskrit':93,'Physics':94,'Chemistry':95}\n",
    "series_way4=pd.Series(dictionary1)\n",
    "print(series_way4)"
   ]
  },
  {
   "cell_type": "code",
   "execution_count": 6,
   "metadata": {},
   "outputs": [
    {
     "name": "stdout",
     "output_type": "stream",
     "text": [
      "94\n"
     ]
    }
   ],
   "source": [
    "#Accessing elements from series using position\n",
    "print(series_way4[2])"
   ]
  },
  {
   "cell_type": "code",
   "execution_count": 7,
   "metadata": {},
   "outputs": [
    {
     "name": "stdout",
     "output_type": "stream",
     "text": [
      "93\n"
     ]
    }
   ],
   "source": [
    "#Accessing elements from series using index value\n",
    "print(series_way4['Sanskrit'])"
   ]
  },
  {
   "cell_type": "code",
   "execution_count": 8,
   "metadata": {},
   "outputs": [
    {
     "name": "stdout",
     "output_type": "stream",
     "text": [
      "Sanskrit    93\n",
      "Maths       92\n",
      "dtype: int64\n"
     ]
    }
   ],
   "source": [
    "#Retrieving multiple elements\n",
    "print(series_way4[['Sanskrit','Maths']])"
   ]
  },
  {
   "cell_type": "markdown",
   "metadata": {},
   "source": [
    "## 2.DataFrame\n",
    "Two dimensional data structure arranged as rows and columns.\n",
    "Columns can be of different datatype\n",
    "Both size and value is mutable"
   ]
  },
  {
   "cell_type": "code",
   "execution_count": 9,
   "metadata": {},
   "outputs": [
    {
     "name": "stdout",
     "output_type": "stream",
     "text": [
      "    0\n",
      "0  92\n",
      "1  93\n",
      "2  94\n",
      "3  95\n"
     ]
    }
   ],
   "source": [
    "#Creating dataframe using list\n",
    "list_1=[92,93,94,95]\n",
    "dataframe_way1=pd.DataFrame(list_1)\n",
    "print(dataframe_way1)"
   ]
  },
  {
   "cell_type": "code",
   "execution_count": 10,
   "metadata": {},
   "outputs": [
    {
     "name": "stdout",
     "output_type": "stream",
     "text": [
      "     Subject  Marks\n",
      "0      Maths     92\n",
      "1   Sanskrit     93\n",
      "2    Physics     94\n",
      "3  Chemistry     95\n"
     ]
    }
   ],
   "source": [
    "#Creating dataframe using list of lists\n",
    "list_2=[['Maths',92],['Sanskrit',93],['Physics',94],['Chemistry',95]]\n",
    "dataframe_way2=pd.DataFrame(list_2,columns=['Subject','Marks'],dtype=int)\n",
    "print(dataframe_way2)"
   ]
  },
  {
   "cell_type": "code",
   "execution_count": 11,
   "metadata": {},
   "outputs": [
    {
     "name": "stdout",
     "output_type": "stream",
     "text": [
      "     Subject  Marks\n",
      "0      Maths     92\n",
      "1   Sanskrit     93\n",
      "2    Physics     94\n",
      "3  Chemistry     95\n"
     ]
    }
   ],
   "source": [
    "#Creating dataframe using dictionary of lists\n",
    "list_3={'Subject':['Maths','Sanskrit','Physics','Chemistry'],'Marks':[92,93,94,95]}\n",
    "dataframe_way3=pd.DataFrame(list_3)\n",
    "print(dataframe_way3)"
   ]
  },
  {
   "cell_type": "code",
   "execution_count": 12,
   "metadata": {},
   "outputs": [
    {
     "name": "stdout",
     "output_type": "stream",
     "text": [
      "           Maths  Sanskrit  Physics  Chemistry\n",
      "Semester1     92        93       94         95\n",
      "Semester2     82        83       84         85\n"
     ]
    }
   ],
   "source": [
    "#Creating dataframe using list of dictionaries\n",
    "list_4=[{'Maths':92,'Sanskrit':93,'Physics':94,'Chemistry':95},{'Maths':82,'Sanskrit':83,'Physics':84,'Chemistry':85}]\n",
    "dataframe_way4=pd.DataFrame(list_4,index=['Semester1','Semester2'])\n",
    "print(dataframe_way4)"
   ]
  },
  {
   "cell_type": "code",
   "execution_count": 13,
   "metadata": {},
   "outputs": [
    {
     "name": "stdout",
     "output_type": "stream",
     "text": [
      "     Subject  Marks\n",
      "0      Maths     92\n",
      "1   Sanskrit     93\n",
      "2    Physics     94\n",
      "3  Chemistry     95\n"
     ]
    }
   ],
   "source": [
    "#Creating dataframe using Dictionaries of series\n",
    "series_5={'Subject':pd.Series(['Maths','Sanskrit','Physics','Chemistry']),'Marks':pd.Series([92,93,94,95])}\n",
    "dataframe_way5=pd.DataFrame(series_5)\n",
    "print(dataframe_way5)"
   ]
  },
  {
   "cell_type": "code",
   "execution_count": 14,
   "metadata": {},
   "outputs": [
    {
     "name": "stdout",
     "output_type": "stream",
     "text": [
      "0        Maths\n",
      "1     Sanskrit\n",
      "2      Physics\n",
      "3    Chemistry\n",
      "Name: Subject, dtype: object\n"
     ]
    }
   ],
   "source": [
    "#Selecting column\n",
    "print(dataframe_way5['Subject'])"
   ]
  },
  {
   "cell_type": "code",
   "execution_count": 15,
   "metadata": {},
   "outputs": [
    {
     "name": "stdout",
     "output_type": "stream",
     "text": [
      "     Subject  Marks Grade\n",
      "0      Maths     92    A+\n",
      "1   Sanskrit     93    A+\n",
      "2    Physics     94    A+\n",
      "3  Chemistry     95    A+\n"
     ]
    }
   ],
   "source": [
    "dataframe_way5['Grade']=['A+','A+','A+','A+']\n",
    "print(dataframe_way5)"
   ]
  },
  {
   "cell_type": "code",
   "execution_count": 16,
   "metadata": {},
   "outputs": [
    {
     "name": "stdout",
     "output_type": "stream",
     "text": [
      "     Subject  Marks\n",
      "0      Maths     92\n",
      "1   Sanskrit     93\n",
      "2    Physics     94\n",
      "3  Chemistry     95\n"
     ]
    }
   ],
   "source": [
    "dataframe_way5.pop('Grade')\n",
    "print(dataframe_way5)"
   ]
  },
  {
   "cell_type": "code",
   "execution_count": 17,
   "metadata": {},
   "outputs": [
    {
     "name": "stdout",
     "output_type": "stream",
     "text": [
      "Index(['Subject', 'Marks'], dtype='object')\n"
     ]
    }
   ],
   "source": [
    "#Getting columns\n",
    "print(dataframe_way5.columns)"
   ]
  },
  {
   "cell_type": "code",
   "execution_count": 18,
   "metadata": {},
   "outputs": [
    {
     "name": "stdout",
     "output_type": "stream",
     "text": [
      "    Subject  Marks\n",
      "0     Maths     92\n",
      "1  Sanskrit     93\n",
      "2   Physics     94\n"
     ]
    }
   ],
   "source": [
    "print(dataframe_way5.head(3))  #By default it's 5"
   ]
  },
  {
   "cell_type": "code",
   "execution_count": 19,
   "metadata": {},
   "outputs": [
    {
     "name": "stdout",
     "output_type": "stream",
     "text": [
      "       Maths  Sanskrit  Physics  Chemistry  History  Geography  English\n",
      "exam1     92        93       94         95       85         80       78\n",
      "exam2     87        91       89         85       80         75       83\n",
      "exam3     90        91       78         81       82         76       82\n",
      "exam4     96        90       80         81       78         72       81\n",
      "exam5     88        90       75         71       82         72       83\n"
     ]
    }
   ],
   "source": [
    "#Creating dataframe using list of dictionaries\n",
    "list_5=[{'Maths':92,'Sanskrit':93,'Physics':94,'Chemistry':95,'History':85,'Geography':80,'English':78},{'Maths':87,'Sanskrit':91,'Physics':89,'Chemistry':85,'History':80,'Geography':75,'English':83},{'Maths':90,'Sanskrit':91,'Physics':78,'Chemistry':81,'History':82,'Geography':76,'English':82},{'Maths':96,'Sanskrit':90,'Physics':80,'Chemistry':81,'History':78,'Geography':72,'English':81},{'Maths':88,'Sanskrit':90,'Physics':75,'Chemistry':71,'History':82,'Geography':72,'English':83}]\n",
    "dataframe_way5=pd.DataFrame(list_5,index=['exam1','exam2','exam3','exam4','exam5'])\n",
    "print(dataframe_way5)"
   ]
  },
  {
   "cell_type": "code",
   "execution_count": 20,
   "metadata": {},
   "outputs": [
    {
     "name": "stdout",
     "output_type": "stream",
     "text": [
      "Maths        90\n",
      "Sanskrit     91\n",
      "Physics      78\n",
      "Chemistry    81\n",
      "History      82\n",
      "Geography    76\n",
      "English      82\n",
      "Name: exam3, dtype: int64\n"
     ]
    }
   ],
   "source": [
    "#loc and iloc:loc works on index labels(here it is exam1,exam2,exam3,exam4,exam5) whereas iloc works on index numbers\n",
    "print(dataframe_way5.loc['exam3'])"
   ]
  },
  {
   "cell_type": "code",
   "execution_count": 21,
   "metadata": {},
   "outputs": [
    {
     "name": "stdout",
     "output_type": "stream",
     "text": [
      "Maths        90\n",
      "Sanskrit     91\n",
      "Physics      78\n",
      "Chemistry    81\n",
      "History      82\n",
      "Geography    76\n",
      "English      82\n",
      "Name: exam3, dtype: int64\n"
     ]
    }
   ],
   "source": [
    "#We can get the same result using iloc as below\n",
    "print(dataframe_way5.iloc[2])  #2 is the index for exam3"
   ]
  },
  {
   "cell_type": "code",
   "execution_count": 22,
   "metadata": {},
   "outputs": [
    {
     "data": {
      "text/plain": [
       "exam1    92\n",
       "exam2    87\n",
       "exam3    90\n",
       "exam4    96\n",
       "exam5    88\n",
       "Name: Maths, dtype: int64"
      ]
     },
     "execution_count": 22,
     "metadata": {},
     "output_type": "execute_result"
    }
   ],
   "source": [
    "#Getting a particular column value\n",
    "dataframe_way5['Maths']"
   ]
  },
  {
   "cell_type": "code",
   "execution_count": 23,
   "metadata": {},
   "outputs": [
    {
     "data": {
      "text/html": [
       "<div>\n",
       "<style scoped>\n",
       "    .dataframe tbody tr th:only-of-type {\n",
       "        vertical-align: middle;\n",
       "    }\n",
       "\n",
       "    .dataframe tbody tr th {\n",
       "        vertical-align: top;\n",
       "    }\n",
       "\n",
       "    .dataframe thead th {\n",
       "        text-align: right;\n",
       "    }\n",
       "</style>\n",
       "<table border=\"1\" class=\"dataframe\">\n",
       "  <thead>\n",
       "    <tr style=\"text-align: right;\">\n",
       "      <th></th>\n",
       "      <th>Maths</th>\n",
       "      <th>Chemistry</th>\n",
       "      <th>History</th>\n",
       "    </tr>\n",
       "  </thead>\n",
       "  <tbody>\n",
       "    <tr>\n",
       "      <th>exam1</th>\n",
       "      <td>92</td>\n",
       "      <td>95</td>\n",
       "      <td>85</td>\n",
       "    </tr>\n",
       "    <tr>\n",
       "      <th>exam2</th>\n",
       "      <td>87</td>\n",
       "      <td>85</td>\n",
       "      <td>80</td>\n",
       "    </tr>\n",
       "    <tr>\n",
       "      <th>exam3</th>\n",
       "      <td>90</td>\n",
       "      <td>81</td>\n",
       "      <td>82</td>\n",
       "    </tr>\n",
       "    <tr>\n",
       "      <th>exam4</th>\n",
       "      <td>96</td>\n",
       "      <td>81</td>\n",
       "      <td>78</td>\n",
       "    </tr>\n",
       "    <tr>\n",
       "      <th>exam5</th>\n",
       "      <td>88</td>\n",
       "      <td>71</td>\n",
       "      <td>82</td>\n",
       "    </tr>\n",
       "  </tbody>\n",
       "</table>\n",
       "</div>"
      ],
      "text/plain": [
       "       Maths  Chemistry  History\n",
       "exam1     92         95       85\n",
       "exam2     87         85       80\n",
       "exam3     90         81       82\n",
       "exam4     96         81       78\n",
       "exam5     88         71       82"
      ]
     },
     "execution_count": 23,
     "metadata": {},
     "output_type": "execute_result"
    }
   ],
   "source": [
    "#Getting multiple columns\n",
    "dataframe_way5[['Maths','Chemistry','History']]"
   ]
  },
  {
   "cell_type": "code",
   "execution_count": 24,
   "metadata": {},
   "outputs": [
    {
     "data": {
      "text/html": [
       "<div>\n",
       "<style scoped>\n",
       "    .dataframe tbody tr th:only-of-type {\n",
       "        vertical-align: middle;\n",
       "    }\n",
       "\n",
       "    .dataframe tbody tr th {\n",
       "        vertical-align: top;\n",
       "    }\n",
       "\n",
       "    .dataframe thead th {\n",
       "        text-align: right;\n",
       "    }\n",
       "</style>\n",
       "<table border=\"1\" class=\"dataframe\">\n",
       "  <thead>\n",
       "    <tr style=\"text-align: right;\">\n",
       "      <th></th>\n",
       "      <th>Maths</th>\n",
       "      <th>Sanskrit</th>\n",
       "      <th>Physics</th>\n",
       "      <th>Chemistry</th>\n",
       "      <th>History</th>\n",
       "      <th>Geography</th>\n",
       "      <th>English</th>\n",
       "    </tr>\n",
       "  </thead>\n",
       "  <tbody>\n",
       "    <tr>\n",
       "      <th>count</th>\n",
       "      <td>5.000000</td>\n",
       "      <td>5.000000</td>\n",
       "      <td>5.000000</td>\n",
       "      <td>5.000000</td>\n",
       "      <td>5.000000</td>\n",
       "      <td>5.000000</td>\n",
       "      <td>5.000000</td>\n",
       "    </tr>\n",
       "    <tr>\n",
       "      <th>mean</th>\n",
       "      <td>90.600000</td>\n",
       "      <td>91.000000</td>\n",
       "      <td>83.200000</td>\n",
       "      <td>82.600000</td>\n",
       "      <td>81.400000</td>\n",
       "      <td>75.000000</td>\n",
       "      <td>81.400000</td>\n",
       "    </tr>\n",
       "    <tr>\n",
       "      <th>std</th>\n",
       "      <td>3.577709</td>\n",
       "      <td>1.224745</td>\n",
       "      <td>7.981228</td>\n",
       "      <td>8.648699</td>\n",
       "      <td>2.607681</td>\n",
       "      <td>3.316625</td>\n",
       "      <td>2.073644</td>\n",
       "    </tr>\n",
       "    <tr>\n",
       "      <th>min</th>\n",
       "      <td>87.000000</td>\n",
       "      <td>90.000000</td>\n",
       "      <td>75.000000</td>\n",
       "      <td>71.000000</td>\n",
       "      <td>78.000000</td>\n",
       "      <td>72.000000</td>\n",
       "      <td>78.000000</td>\n",
       "    </tr>\n",
       "    <tr>\n",
       "      <th>25%</th>\n",
       "      <td>88.000000</td>\n",
       "      <td>90.000000</td>\n",
       "      <td>78.000000</td>\n",
       "      <td>81.000000</td>\n",
       "      <td>80.000000</td>\n",
       "      <td>72.000000</td>\n",
       "      <td>81.000000</td>\n",
       "    </tr>\n",
       "    <tr>\n",
       "      <th>50%</th>\n",
       "      <td>90.000000</td>\n",
       "      <td>91.000000</td>\n",
       "      <td>80.000000</td>\n",
       "      <td>81.000000</td>\n",
       "      <td>82.000000</td>\n",
       "      <td>75.000000</td>\n",
       "      <td>82.000000</td>\n",
       "    </tr>\n",
       "    <tr>\n",
       "      <th>75%</th>\n",
       "      <td>92.000000</td>\n",
       "      <td>91.000000</td>\n",
       "      <td>89.000000</td>\n",
       "      <td>85.000000</td>\n",
       "      <td>82.000000</td>\n",
       "      <td>76.000000</td>\n",
       "      <td>83.000000</td>\n",
       "    </tr>\n",
       "    <tr>\n",
       "      <th>max</th>\n",
       "      <td>96.000000</td>\n",
       "      <td>93.000000</td>\n",
       "      <td>94.000000</td>\n",
       "      <td>95.000000</td>\n",
       "      <td>85.000000</td>\n",
       "      <td>80.000000</td>\n",
       "      <td>83.000000</td>\n",
       "    </tr>\n",
       "  </tbody>\n",
       "</table>\n",
       "</div>"
      ],
      "text/plain": [
       "           Maths   Sanskrit    Physics  Chemistry    History  Geography  \\\n",
       "count   5.000000   5.000000   5.000000   5.000000   5.000000   5.000000   \n",
       "mean   90.600000  91.000000  83.200000  82.600000  81.400000  75.000000   \n",
       "std     3.577709   1.224745   7.981228   8.648699   2.607681   3.316625   \n",
       "min    87.000000  90.000000  75.000000  71.000000  78.000000  72.000000   \n",
       "25%    88.000000  90.000000  78.000000  81.000000  80.000000  72.000000   \n",
       "50%    90.000000  91.000000  80.000000  81.000000  82.000000  75.000000   \n",
       "75%    92.000000  91.000000  89.000000  85.000000  82.000000  76.000000   \n",
       "max    96.000000  93.000000  94.000000  95.000000  85.000000  80.000000   \n",
       "\n",
       "         English  \n",
       "count   5.000000  \n",
       "mean   81.400000  \n",
       "std     2.073644  \n",
       "min    78.000000  \n",
       "25%    81.000000  \n",
       "50%    82.000000  \n",
       "75%    83.000000  \n",
       "max    83.000000  "
      ]
     },
     "execution_count": 24,
     "metadata": {},
     "output_type": "execute_result"
    }
   ],
   "source": [
    "#Basic statistics of the dataframe\n",
    "dataframe_way5.describe()"
   ]
  },
  {
   "cell_type": "code",
   "execution_count": 25,
   "metadata": {},
   "outputs": [
    {
     "data": {
      "text/html": [
       "<div>\n",
       "<style scoped>\n",
       "    .dataframe tbody tr th:only-of-type {\n",
       "        vertical-align: middle;\n",
       "    }\n",
       "\n",
       "    .dataframe tbody tr th {\n",
       "        vertical-align: top;\n",
       "    }\n",
       "\n",
       "    .dataframe thead th {\n",
       "        text-align: right;\n",
       "    }\n",
       "</style>\n",
       "<table border=\"1\" class=\"dataframe\">\n",
       "  <thead>\n",
       "    <tr style=\"text-align: right;\">\n",
       "      <th></th>\n",
       "      <th>Maths</th>\n",
       "      <th>Sanskrit</th>\n",
       "      <th>Physics</th>\n",
       "      <th>Chemistry</th>\n",
       "      <th>History</th>\n",
       "      <th>Geography</th>\n",
       "      <th>English</th>\n",
       "    </tr>\n",
       "  </thead>\n",
       "  <tbody>\n",
       "    <tr>\n",
       "      <th>exam2</th>\n",
       "      <td>87</td>\n",
       "      <td>91</td>\n",
       "      <td>89</td>\n",
       "      <td>85</td>\n",
       "      <td>80</td>\n",
       "      <td>75</td>\n",
       "      <td>83</td>\n",
       "    </tr>\n",
       "    <tr>\n",
       "      <th>exam5</th>\n",
       "      <td>88</td>\n",
       "      <td>90</td>\n",
       "      <td>75</td>\n",
       "      <td>71</td>\n",
       "      <td>82</td>\n",
       "      <td>72</td>\n",
       "      <td>83</td>\n",
       "    </tr>\n",
       "    <tr>\n",
       "      <th>exam3</th>\n",
       "      <td>90</td>\n",
       "      <td>91</td>\n",
       "      <td>78</td>\n",
       "      <td>81</td>\n",
       "      <td>82</td>\n",
       "      <td>76</td>\n",
       "      <td>82</td>\n",
       "    </tr>\n",
       "    <tr>\n",
       "      <th>exam1</th>\n",
       "      <td>92</td>\n",
       "      <td>93</td>\n",
       "      <td>94</td>\n",
       "      <td>95</td>\n",
       "      <td>85</td>\n",
       "      <td>80</td>\n",
       "      <td>78</td>\n",
       "    </tr>\n",
       "    <tr>\n",
       "      <th>exam4</th>\n",
       "      <td>96</td>\n",
       "      <td>90</td>\n",
       "      <td>80</td>\n",
       "      <td>81</td>\n",
       "      <td>78</td>\n",
       "      <td>72</td>\n",
       "      <td>81</td>\n",
       "    </tr>\n",
       "  </tbody>\n",
       "</table>\n",
       "</div>"
      ],
      "text/plain": [
       "       Maths  Sanskrit  Physics  Chemistry  History  Geography  English\n",
       "exam2     87        91       89         85       80         75       83\n",
       "exam5     88        90       75         71       82         72       83\n",
       "exam3     90        91       78         81       82         76       82\n",
       "exam1     92        93       94         95       85         80       78\n",
       "exam4     96        90       80         81       78         72       81"
      ]
     },
     "execution_count": 25,
     "metadata": {},
     "output_type": "execute_result"
    }
   ],
   "source": [
    "#Sorting in ascending order\n",
    "dataframe_way5.sort_values('Maths')"
   ]
  },
  {
   "cell_type": "code",
   "execution_count": 26,
   "metadata": {},
   "outputs": [
    {
     "data": {
      "text/html": [
       "<div>\n",
       "<style scoped>\n",
       "    .dataframe tbody tr th:only-of-type {\n",
       "        vertical-align: middle;\n",
       "    }\n",
       "\n",
       "    .dataframe tbody tr th {\n",
       "        vertical-align: top;\n",
       "    }\n",
       "\n",
       "    .dataframe thead th {\n",
       "        text-align: right;\n",
       "    }\n",
       "</style>\n",
       "<table border=\"1\" class=\"dataframe\">\n",
       "  <thead>\n",
       "    <tr style=\"text-align: right;\">\n",
       "      <th></th>\n",
       "      <th>Maths</th>\n",
       "      <th>Sanskrit</th>\n",
       "      <th>Physics</th>\n",
       "      <th>Chemistry</th>\n",
       "      <th>History</th>\n",
       "      <th>Geography</th>\n",
       "      <th>English</th>\n",
       "    </tr>\n",
       "  </thead>\n",
       "  <tbody>\n",
       "    <tr>\n",
       "      <th>exam4</th>\n",
       "      <td>96</td>\n",
       "      <td>90</td>\n",
       "      <td>80</td>\n",
       "      <td>81</td>\n",
       "      <td>78</td>\n",
       "      <td>72</td>\n",
       "      <td>81</td>\n",
       "    </tr>\n",
       "    <tr>\n",
       "      <th>exam1</th>\n",
       "      <td>92</td>\n",
       "      <td>93</td>\n",
       "      <td>94</td>\n",
       "      <td>95</td>\n",
       "      <td>85</td>\n",
       "      <td>80</td>\n",
       "      <td>78</td>\n",
       "    </tr>\n",
       "    <tr>\n",
       "      <th>exam3</th>\n",
       "      <td>90</td>\n",
       "      <td>91</td>\n",
       "      <td>78</td>\n",
       "      <td>81</td>\n",
       "      <td>82</td>\n",
       "      <td>76</td>\n",
       "      <td>82</td>\n",
       "    </tr>\n",
       "    <tr>\n",
       "      <th>exam5</th>\n",
       "      <td>88</td>\n",
       "      <td>90</td>\n",
       "      <td>75</td>\n",
       "      <td>71</td>\n",
       "      <td>82</td>\n",
       "      <td>72</td>\n",
       "      <td>83</td>\n",
       "    </tr>\n",
       "    <tr>\n",
       "      <th>exam2</th>\n",
       "      <td>87</td>\n",
       "      <td>91</td>\n",
       "      <td>89</td>\n",
       "      <td>85</td>\n",
       "      <td>80</td>\n",
       "      <td>75</td>\n",
       "      <td>83</td>\n",
       "    </tr>\n",
       "  </tbody>\n",
       "</table>\n",
       "</div>"
      ],
      "text/plain": [
       "       Maths  Sanskrit  Physics  Chemistry  History  Geography  English\n",
       "exam4     96        90       80         81       78         72       81\n",
       "exam1     92        93       94         95       85         80       78\n",
       "exam3     90        91       78         81       82         76       82\n",
       "exam5     88        90       75         71       82         72       83\n",
       "exam2     87        91       89         85       80         75       83"
      ]
     },
     "execution_count": 26,
     "metadata": {},
     "output_type": "execute_result"
    }
   ],
   "source": [
    "#Sorting in descending order\n",
    "dataframe_way5.sort_values('Maths',ascending=False)"
   ]
  },
  {
   "cell_type": "code",
   "execution_count": 27,
   "metadata": {},
   "outputs": [
    {
     "data": {
      "text/html": [
       "<div>\n",
       "<style scoped>\n",
       "    .dataframe tbody tr th:only-of-type {\n",
       "        vertical-align: middle;\n",
       "    }\n",
       "\n",
       "    .dataframe tbody tr th {\n",
       "        vertical-align: top;\n",
       "    }\n",
       "\n",
       "    .dataframe thead th {\n",
       "        text-align: right;\n",
       "    }\n",
       "</style>\n",
       "<table border=\"1\" class=\"dataframe\">\n",
       "  <thead>\n",
       "    <tr style=\"text-align: right;\">\n",
       "      <th></th>\n",
       "      <th>Maths</th>\n",
       "      <th>Sanskrit</th>\n",
       "      <th>Physics</th>\n",
       "      <th>Chemistry</th>\n",
       "      <th>History</th>\n",
       "      <th>Geography</th>\n",
       "      <th>English</th>\n",
       "      <th>Total</th>\n",
       "    </tr>\n",
       "  </thead>\n",
       "  <tbody>\n",
       "    <tr>\n",
       "      <th>exam1</th>\n",
       "      <td>92</td>\n",
       "      <td>93</td>\n",
       "      <td>94</td>\n",
       "      <td>95</td>\n",
       "      <td>85</td>\n",
       "      <td>80</td>\n",
       "      <td>78</td>\n",
       "      <td>617</td>\n",
       "    </tr>\n",
       "    <tr>\n",
       "      <th>exam2</th>\n",
       "      <td>87</td>\n",
       "      <td>91</td>\n",
       "      <td>89</td>\n",
       "      <td>85</td>\n",
       "      <td>80</td>\n",
       "      <td>75</td>\n",
       "      <td>83</td>\n",
       "      <td>590</td>\n",
       "    </tr>\n",
       "    <tr>\n",
       "      <th>exam3</th>\n",
       "      <td>90</td>\n",
       "      <td>91</td>\n",
       "      <td>78</td>\n",
       "      <td>81</td>\n",
       "      <td>82</td>\n",
       "      <td>76</td>\n",
       "      <td>82</td>\n",
       "      <td>580</td>\n",
       "    </tr>\n",
       "    <tr>\n",
       "      <th>exam4</th>\n",
       "      <td>96</td>\n",
       "      <td>90</td>\n",
       "      <td>80</td>\n",
       "      <td>81</td>\n",
       "      <td>78</td>\n",
       "      <td>72</td>\n",
       "      <td>81</td>\n",
       "      <td>578</td>\n",
       "    </tr>\n",
       "    <tr>\n",
       "      <th>exam5</th>\n",
       "      <td>88</td>\n",
       "      <td>90</td>\n",
       "      <td>75</td>\n",
       "      <td>71</td>\n",
       "      <td>82</td>\n",
       "      <td>72</td>\n",
       "      <td>83</td>\n",
       "      <td>561</td>\n",
       "    </tr>\n",
       "  </tbody>\n",
       "</table>\n",
       "</div>"
      ],
      "text/plain": [
       "       Maths  Sanskrit  Physics  Chemistry  History  Geography  English  Total\n",
       "exam1     92        93       94         95       85         80       78    617\n",
       "exam2     87        91       89         85       80         75       83    590\n",
       "exam3     90        91       78         81       82         76       82    580\n",
       "exam4     96        90       80         81       78         72       81    578\n",
       "exam5     88        90       75         71       82         72       83    561"
      ]
     },
     "execution_count": 27,
     "metadata": {},
     "output_type": "execute_result"
    }
   ],
   "source": [
    "#Adding all the values along rows\n",
    "dataframe_way5['Total']=dataframe_way5.sum(axis = 1)  #Axis 1 means it will sum the value in a row or in another word all the column value in a row\n",
    "dataframe_way5"
   ]
  },
  {
   "cell_type": "code",
   "execution_count": 28,
   "metadata": {},
   "outputs": [
    {
     "data": {
      "text/html": [
       "<div>\n",
       "<style scoped>\n",
       "    .dataframe tbody tr th:only-of-type {\n",
       "        vertical-align: middle;\n",
       "    }\n",
       "\n",
       "    .dataframe tbody tr th {\n",
       "        vertical-align: top;\n",
       "    }\n",
       "\n",
       "    .dataframe thead th {\n",
       "        text-align: right;\n",
       "    }\n",
       "</style>\n",
       "<table border=\"1\" class=\"dataframe\">\n",
       "  <thead>\n",
       "    <tr style=\"text-align: right;\">\n",
       "      <th></th>\n",
       "      <th>Maths</th>\n",
       "      <th>Sanskrit</th>\n",
       "      <th>Physics</th>\n",
       "      <th>Chemistry</th>\n",
       "      <th>History</th>\n",
       "      <th>Geography</th>\n",
       "      <th>English</th>\n",
       "    </tr>\n",
       "  </thead>\n",
       "  <tbody>\n",
       "    <tr>\n",
       "      <th>exam1</th>\n",
       "      <td>92</td>\n",
       "      <td>93</td>\n",
       "      <td>94</td>\n",
       "      <td>95</td>\n",
       "      <td>85</td>\n",
       "      <td>80</td>\n",
       "      <td>78</td>\n",
       "    </tr>\n",
       "    <tr>\n",
       "      <th>exam2</th>\n",
       "      <td>87</td>\n",
       "      <td>91</td>\n",
       "      <td>89</td>\n",
       "      <td>85</td>\n",
       "      <td>80</td>\n",
       "      <td>75</td>\n",
       "      <td>83</td>\n",
       "    </tr>\n",
       "    <tr>\n",
       "      <th>exam3</th>\n",
       "      <td>90</td>\n",
       "      <td>91</td>\n",
       "      <td>78</td>\n",
       "      <td>81</td>\n",
       "      <td>82</td>\n",
       "      <td>76</td>\n",
       "      <td>82</td>\n",
       "    </tr>\n",
       "    <tr>\n",
       "      <th>exam4</th>\n",
       "      <td>96</td>\n",
       "      <td>90</td>\n",
       "      <td>80</td>\n",
       "      <td>81</td>\n",
       "      <td>78</td>\n",
       "      <td>72</td>\n",
       "      <td>81</td>\n",
       "    </tr>\n",
       "    <tr>\n",
       "      <th>exam5</th>\n",
       "      <td>88</td>\n",
       "      <td>90</td>\n",
       "      <td>75</td>\n",
       "      <td>71</td>\n",
       "      <td>82</td>\n",
       "      <td>72</td>\n",
       "      <td>83</td>\n",
       "    </tr>\n",
       "  </tbody>\n",
       "</table>\n",
       "</div>"
      ],
      "text/plain": [
       "       Maths  Sanskrit  Physics  Chemistry  History  Geography  English\n",
       "exam1     92        93       94         95       85         80       78\n",
       "exam2     87        91       89         85       80         75       83\n",
       "exam3     90        91       78         81       82         76       82\n",
       "exam4     96        90       80         81       78         72       81\n",
       "exam5     88        90       75         71       82         72       83"
      ]
     },
     "execution_count": 28,
     "metadata": {},
     "output_type": "execute_result"
    }
   ],
   "source": [
    "#Dropping a column\n",
    "dataframe_way5=dataframe_way5.drop(columns=['Total'])\n",
    "dataframe_way5"
   ]
  },
  {
   "cell_type": "code",
   "execution_count": 29,
   "metadata": {},
   "outputs": [
    {
     "data": {
      "text/html": [
       "<div>\n",
       "<style scoped>\n",
       "    .dataframe tbody tr th:only-of-type {\n",
       "        vertical-align: middle;\n",
       "    }\n",
       "\n",
       "    .dataframe tbody tr th {\n",
       "        vertical-align: top;\n",
       "    }\n",
       "\n",
       "    .dataframe thead th {\n",
       "        text-align: right;\n",
       "    }\n",
       "</style>\n",
       "<table border=\"1\" class=\"dataframe\">\n",
       "  <thead>\n",
       "    <tr style=\"text-align: right;\">\n",
       "      <th></th>\n",
       "      <th>Maths</th>\n",
       "      <th>Sanskrit</th>\n",
       "      <th>Physics</th>\n",
       "      <th>Chemistry</th>\n",
       "      <th>History</th>\n",
       "      <th>Geography</th>\n",
       "      <th>English</th>\n",
       "    </tr>\n",
       "  </thead>\n",
       "  <tbody>\n",
       "    <tr>\n",
       "      <th>exam1</th>\n",
       "      <td>92</td>\n",
       "      <td>93</td>\n",
       "      <td>94</td>\n",
       "      <td>95</td>\n",
       "      <td>85</td>\n",
       "      <td>80</td>\n",
       "      <td>78</td>\n",
       "    </tr>\n",
       "    <tr>\n",
       "      <th>exam3</th>\n",
       "      <td>90</td>\n",
       "      <td>91</td>\n",
       "      <td>78</td>\n",
       "      <td>81</td>\n",
       "      <td>82</td>\n",
       "      <td>76</td>\n",
       "      <td>82</td>\n",
       "    </tr>\n",
       "    <tr>\n",
       "      <th>exam4</th>\n",
       "      <td>96</td>\n",
       "      <td>90</td>\n",
       "      <td>80</td>\n",
       "      <td>81</td>\n",
       "      <td>78</td>\n",
       "      <td>72</td>\n",
       "      <td>81</td>\n",
       "    </tr>\n",
       "  </tbody>\n",
       "</table>\n",
       "</div>"
      ],
      "text/plain": [
       "       Maths  Sanskrit  Physics  Chemistry  History  Geography  English\n",
       "exam1     92        93       94         95       85         80       78\n",
       "exam3     90        91       78         81       82         76       82\n",
       "exam4     96        90       80         81       78         72       81"
      ]
     },
     "execution_count": 29,
     "metadata": {},
     "output_type": "execute_result"
    }
   ],
   "source": [
    "#Filter on one condition\n",
    "dataframe_way5.loc[dataframe_way5.Maths >= 90]"
   ]
  },
  {
   "cell_type": "code",
   "execution_count": 30,
   "metadata": {},
   "outputs": [
    {
     "data": {
      "text/html": [
       "<div>\n",
       "<style scoped>\n",
       "    .dataframe tbody tr th:only-of-type {\n",
       "        vertical-align: middle;\n",
       "    }\n",
       "\n",
       "    .dataframe tbody tr th {\n",
       "        vertical-align: top;\n",
       "    }\n",
       "\n",
       "    .dataframe thead th {\n",
       "        text-align: right;\n",
       "    }\n",
       "</style>\n",
       "<table border=\"1\" class=\"dataframe\">\n",
       "  <thead>\n",
       "    <tr style=\"text-align: right;\">\n",
       "      <th></th>\n",
       "      <th>Maths</th>\n",
       "      <th>Sanskrit</th>\n",
       "      <th>Physics</th>\n",
       "      <th>Chemistry</th>\n",
       "      <th>History</th>\n",
       "      <th>Geography</th>\n",
       "      <th>English</th>\n",
       "    </tr>\n",
       "  </thead>\n",
       "  <tbody>\n",
       "    <tr>\n",
       "      <th>exam3</th>\n",
       "      <td>90</td>\n",
       "      <td>91</td>\n",
       "      <td>78</td>\n",
       "      <td>81</td>\n",
       "      <td>82</td>\n",
       "      <td>76</td>\n",
       "      <td>82</td>\n",
       "    </tr>\n",
       "    <tr>\n",
       "      <th>exam4</th>\n",
       "      <td>96</td>\n",
       "      <td>90</td>\n",
       "      <td>80</td>\n",
       "      <td>81</td>\n",
       "      <td>78</td>\n",
       "      <td>72</td>\n",
       "      <td>81</td>\n",
       "    </tr>\n",
       "  </tbody>\n",
       "</table>\n",
       "</div>"
      ],
      "text/plain": [
       "       Maths  Sanskrit  Physics  Chemistry  History  Geography  English\n",
       "exam3     90        91       78         81       82         76       82\n",
       "exam4     96        90       80         81       78         72       81"
      ]
     },
     "execution_count": 30,
     "metadata": {},
     "output_type": "execute_result"
    }
   ],
   "source": [
    "#Filter on more than one condition\n",
    "dataframe_way5.loc[(dataframe_way5.Maths >= 90) & (dataframe_way5.English >= 80)]"
   ]
  },
  {
   "cell_type": "code",
   "execution_count": 31,
   "metadata": {},
   "outputs": [
    {
     "data": {
      "text/html": [
       "<div>\n",
       "<style scoped>\n",
       "    .dataframe tbody tr th:only-of-type {\n",
       "        vertical-align: middle;\n",
       "    }\n",
       "\n",
       "    .dataframe tbody tr th {\n",
       "        vertical-align: top;\n",
       "    }\n",
       "\n",
       "    .dataframe thead th {\n",
       "        text-align: right;\n",
       "    }\n",
       "</style>\n",
       "<table border=\"1\" class=\"dataframe\">\n",
       "  <thead>\n",
       "    <tr style=\"text-align: right;\">\n",
       "      <th></th>\n",
       "      <th>State</th>\n",
       "      <th>City</th>\n",
       "      <th>Cases</th>\n",
       "      <th>Date</th>\n",
       "    </tr>\n",
       "  </thead>\n",
       "  <tbody>\n",
       "    <tr>\n",
       "      <th>0</th>\n",
       "      <td>Jharkhand</td>\n",
       "      <td>Daltonganj</td>\n",
       "      <td>4567</td>\n",
       "      <td>5/7/2020</td>\n",
       "    </tr>\n",
       "    <tr>\n",
       "      <th>1</th>\n",
       "      <td>Jharkhand</td>\n",
       "      <td>Ranchi</td>\n",
       "      <td>4321</td>\n",
       "      <td>5/7/2020</td>\n",
       "    </tr>\n",
       "    <tr>\n",
       "      <th>2</th>\n",
       "      <td>Jharkhand</td>\n",
       "      <td>Jamshedpur</td>\n",
       "      <td>6782</td>\n",
       "      <td>4/7/2020</td>\n",
       "    </tr>\n",
       "    <tr>\n",
       "      <th>3</th>\n",
       "      <td>Bihar</td>\n",
       "      <td>Patna</td>\n",
       "      <td>5437</td>\n",
       "      <td>4/7/2020</td>\n",
       "    </tr>\n",
       "    <tr>\n",
       "      <th>4</th>\n",
       "      <td>Bihar</td>\n",
       "      <td>Gaya</td>\n",
       "      <td>8723</td>\n",
       "      <td>5/7/2020</td>\n",
       "    </tr>\n",
       "    <tr>\n",
       "      <th>5</th>\n",
       "      <td>Bihar</td>\n",
       "      <td>Begusarai</td>\n",
       "      <td>1234</td>\n",
       "      <td>5/7/2020</td>\n",
       "    </tr>\n",
       "    <tr>\n",
       "      <th>6</th>\n",
       "      <td>Karnataka</td>\n",
       "      <td>Bangalore</td>\n",
       "      <td>9840</td>\n",
       "      <td>4/7/2020</td>\n",
       "    </tr>\n",
       "    <tr>\n",
       "      <th>7</th>\n",
       "      <td>Karnataka</td>\n",
       "      <td>Mysore</td>\n",
       "      <td>6534</td>\n",
       "      <td>4/7/2020</td>\n",
       "    </tr>\n",
       "    <tr>\n",
       "      <th>8</th>\n",
       "      <td>Karnataka</td>\n",
       "      <td>Hampi</td>\n",
       "      <td>7450</td>\n",
       "      <td>5/7/2020</td>\n",
       "    </tr>\n",
       "  </tbody>\n",
       "</table>\n",
       "</div>"
      ],
      "text/plain": [
       "       State        City  Cases      Date\n",
       "0  Jharkhand  Daltonganj   4567  5/7/2020\n",
       "1  Jharkhand      Ranchi   4321  5/7/2020\n",
       "2  Jharkhand  Jamshedpur   6782  4/7/2020\n",
       "3      Bihar       Patna   5437  4/7/2020\n",
       "4      Bihar        Gaya   8723  5/7/2020\n",
       "5      Bihar   Begusarai   1234  5/7/2020\n",
       "6  Karnataka   Bangalore   9840  4/7/2020\n",
       "7  Karnataka      Mysore   6534  4/7/2020\n",
       "8  Karnataka       Hampi   7450  5/7/2020"
      ]
     },
     "execution_count": 31,
     "metadata": {},
     "output_type": "execute_result"
    }
   ],
   "source": [
    "coronadata={'State':['Jharkhand','Jharkhand','Jharkhand','Bihar','Bihar','Bihar','Karnataka','Karnataka','Karnataka'],'City':['Daltonganj','Ranchi','Jamshedpur','Patna','Gaya','Begusarai','Bangalore','Mysore','Hampi'],'Cases':[4567,4321,6782,5437,8723,1234,9840,6534,7450],'Date':['5/7/2020','5/7/2020','4/7/2020','4/7/2020','5/7/2020','5/7/2020','4/7/2020','4/7/2020','5/7/2020']}\n",
    "coronadata_df=pd.DataFrame(coronadata)\n",
    "coronadata_df"
   ]
  },
  {
   "cell_type": "code",
   "execution_count": 32,
   "metadata": {},
   "outputs": [
    {
     "name": "stdout",
     "output_type": "stream",
     "text": [
      "{'Bihar': [3, 4, 5], 'Jharkhand': [0, 1, 2], 'Karnataka': [6, 7, 8]}\n"
     ]
    }
   ],
   "source": [
    "#Grouping using one column\n",
    "df = pd.DataFrame(coronadata_df)\n",
    "print(df.groupby('State').groups)"
   ]
  },
  {
   "cell_type": "code",
   "execution_count": 33,
   "metadata": {},
   "outputs": [
    {
     "name": "stdout",
     "output_type": "stream",
     "text": [
      "{('Bihar', '4/7/2020'): [3], ('Bihar', '5/7/2020'): [4, 5], ('Jharkhand', '4/7/2020'): [2], ('Jharkhand', '5/7/2020'): [0, 1], ('Karnataka', '4/7/2020'): [6, 7], ('Karnataka', '5/7/2020'): [8]}\n"
     ]
    }
   ],
   "source": [
    "#Grouping using multiple column\n",
    "df = pd.DataFrame(coronadata_df)\n",
    "print(df.groupby(['State','Date']).groups)"
   ]
  },
  {
   "cell_type": "code",
   "execution_count": 34,
   "metadata": {},
   "outputs": [
    {
     "name": "stdout",
     "output_type": "stream",
     "text": [
      "4/7/2020\n",
      "       State        City  Cases      Date\n",
      "2  Jharkhand  Jamshedpur   6782  4/7/2020\n",
      "3      Bihar       Patna   5437  4/7/2020\n",
      "6  Karnataka   Bangalore   9840  4/7/2020\n",
      "7  Karnataka      Mysore   6534  4/7/2020\n",
      "5/7/2020\n",
      "       State        City  Cases      Date\n",
      "0  Jharkhand  Daltonganj   4567  5/7/2020\n",
      "1  Jharkhand      Ranchi   4321  5/7/2020\n",
      "4      Bihar        Gaya   8723  5/7/2020\n",
      "5      Bihar   Begusarai   1234  5/7/2020\n",
      "8  Karnataka       Hampi   7450  5/7/2020\n"
     ]
    }
   ],
   "source": [
    "#Printing each value based on group\n",
    "groupingbydate=pd.DataFrame(coronadata_df).groupby('Date')\n",
    "\n",
    "for name,group in groupingbydate:\n",
    "    print(name)\n",
    "    print(group)"
   ]
  },
  {
   "cell_type": "code",
   "execution_count": 35,
   "metadata": {},
   "outputs": [
    {
     "name": "stdout",
     "output_type": "stream",
     "text": [
      "State\n",
      "Bihar        15394\n",
      "Jharkhand    15670\n",
      "Karnataka    23824\n",
      "Name: Cases, dtype: int64\n"
     ]
    }
   ],
   "source": [
    "#Aggregation functions on grouped values\n",
    "groupingbystate=pd.DataFrame(coronadata_df).groupby('State')\n",
    "print(groupingbystate['Cases'].agg(np.sum)) ##Other methods are np.mean,np.size,np.sum, np.mean, np.std"
   ]
  },
  {
   "cell_type": "code",
   "execution_count": null,
   "metadata": {},
   "outputs": [],
   "source": [
    "A = {\n",
    "        'id': ['1', '2', '3', '4', '5'],\n",
    "        'A': ['A1', 'A2', 'A3', 'A4', 'A5'],\n",
    "        'B': ['B1', 'B2', 'B3', 'B4', 'B5']}\n",
    "dataframe_A=pd.DataFrame(A)\n",
    "dataframe_A"
   ]
  },
  {
   "cell_type": "code",
   "execution_count": null,
   "metadata": {},
   "outputs": [],
   "source": [
    "B = {\n",
    "        'id': ['1', '2', '6', '7', '8'],\n",
    "        'A': ['A6', 'A7', 'A8', 'A9', 'A10'],\n",
    "        'B': ['B6', 'B7', 'B8', 'B9', 'B10']}\n",
    "dataframe_B=pd.DataFrame(B)\n",
    "dataframe_B"
   ]
  },
  {
   "cell_type": "code",
   "execution_count": null,
   "metadata": {},
   "outputs": [],
   "source": [
    "C = {\n",
    "        'id': ['1', '2', '3', '4', '5','6','7','8','9','10'],\n",
    "        'C': ['C1', 'C2', 'C3', 'C4', 'C5','C6','C7','C8','C9','C10']}\n",
    "dataframe_C=pd.DataFrame(C)\n",
    "dataframe_C"
   ]
  },
  {
   "cell_type": "code",
   "execution_count": null,
   "metadata": {},
   "outputs": [],
   "source": [
    "df_concat=pd.concat([dataframe_A,dataframe_B]) #Along rows default\n",
    "df_concat"
   ]
  },
  {
   "cell_type": "code",
   "execution_count": null,
   "metadata": {},
   "outputs": [],
   "source": [
    "df_concat_reindex=pd.concat([dataframe_A,dataframe_B],ignore_index=True)\n",
    "df_concat_reindex"
   ]
  },
  {
   "cell_type": "code",
   "execution_count": null,
   "metadata": {},
   "outputs": [],
   "source": [
    "df_concat_alongcolumn=pd.concat([dataframe_A,dataframe_B],axis=1) #Along columns\n",
    "df_concat_alongcolumn"
   ]
  },
  {
   "cell_type": "code",
   "execution_count": null,
   "metadata": {},
   "outputs": [],
   "source": [
    "df_merge_col = pd.merge(df_concat, dataframe_C, on='id')\n",
    "\n",
    "df_merge_col"
   ]
  },
  {
   "cell_type": "code",
   "execution_count": null,
   "metadata": {},
   "outputs": [],
   "source": [
    "#Outer Join\n",
    "df_outer = pd.merge(dataframe_A, dataframe_B, on='id', how='outer')\n",
    "\n",
    "df_outer"
   ]
  },
  {
   "cell_type": "code",
   "execution_count": null,
   "metadata": {},
   "outputs": [],
   "source": [
    "#Inner Join\n",
    "df_inner = pd.merge(dataframe_A, dataframe_B, on='id', how='inner')\n",
    "\n",
    "df_inner"
   ]
  },
  {
   "cell_type": "code",
   "execution_count": null,
   "metadata": {},
   "outputs": [],
   "source": [
    "#Right Join\n",
    "df_right = pd.merge(dataframe_A, dataframe_B, on='id', how='right')\n",
    "\n",
    "df_right"
   ]
  },
  {
   "cell_type": "code",
   "execution_count": null,
   "metadata": {},
   "outputs": [],
   "source": [
    "#Left Join\n",
    "df_left = pd.merge(dataframe_A, dataframe_B, on='id', how='left')\n",
    "\n",
    "df_left"
   ]
  },
  {
   "cell_type": "markdown",
   "metadata": {},
   "source": [
    "\n"
   ]
  },
  {
   "cell_type": "code",
   "execution_count": null,
   "metadata": {},
   "outputs": [],
   "source": []
  }
 ],
 "metadata": {
  "kernelspec": {
   "display_name": "Python 3",
   "language": "python",
   "name": "python3"
  },
  "language_info": {
   "codemirror_mode": {
    "name": "ipython",
    "version": 3
   },
   "file_extension": ".py",
   "mimetype": "text/x-python",
   "name": "python",
   "nbconvert_exporter": "python",
   "pygments_lexer": "ipython3",
   "version": "3.7.7"
  }
 },
 "nbformat": 4,
 "nbformat_minor": 4
}
