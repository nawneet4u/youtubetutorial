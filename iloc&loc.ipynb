{
 "cells": [
  {
   "cell_type": "markdown",
   "metadata": {},
   "source": [
    "## What is loc and iloc?\n",
    "--->These are pandas methods to filter/select data from pandas dataframe\n",
    "--->loc is label based\n",
    "--->iloc is index based"
   ]
  },
  {
   "cell_type": "code",
   "execution_count": 1,
   "metadata": {},
   "outputs": [],
   "source": [
    "import pandas as pd"
   ]
  },
  {
   "cell_type": "code",
   "execution_count": 2,
   "metadata": {},
   "outputs": [
    {
     "name": "stdout",
     "output_type": "stream",
     "text": [
      "       Maths  Sanskrit  Physics  Chemistry  History  Geography  English\n",
      "exam1     92        93       94         95       85         80       78\n",
      "exam2     87        91       89         85       80         75       83\n",
      "exam3     90        91       78         81       82         76       82\n",
      "exam4     96        90       80         81       78         72       81\n",
      "exam5     88        90       75         71       82         72       83\n"
     ]
    }
   ],
   "source": [
    "##Creating a dataframe\n",
    "sonu_marks=[{'Maths':92,'Sanskrit':93,'Physics':94,'Chemistry':95,'History':85,'Geography':80,'English':78},{'Maths':87,'Sanskrit':91,'Physics':89,'Chemistry':85,'History':80,'Geography':75,'English':83},{'Maths':90,'Sanskrit':91,'Physics':78,'Chemistry':81,'History':82,'Geography':76,'English':82},{'Maths':96,'Sanskrit':90,'Physics':80,'Chemistry':81,'History':78,'Geography':72,'English':81},{'Maths':88,'Sanskrit':90,'Physics':75,'Chemistry':71,'History':82,'Geography':72,'English':83}]\n",
    "dataframe=pd.DataFrame(sonu_marks,index=['exam1','exam2','exam3','exam4','exam5'])\n",
    "print(dataframe)"
   ]
  },
  {
   "cell_type": "code",
   "execution_count": 3,
   "metadata": {},
   "outputs": [
    {
     "name": "stdout",
     "output_type": "stream",
     "text": [
      "Maths        90\n",
      "Sanskrit     91\n",
      "Physics      78\n",
      "Chemistry    81\n",
      "History      82\n",
      "Geography    76\n",
      "English      82\n",
      "Name: exam3, dtype: int64\n"
     ]
    }
   ],
   "source": [
    "#Selecting a row using loc\n",
    "print(dataframe.loc['exam3']) # 'exam3' is the  label of row "
   ]
  },
  {
   "cell_type": "code",
   "execution_count": 4,
   "metadata": {},
   "outputs": [
    {
     "name": "stdout",
     "output_type": "stream",
     "text": [
      "Maths        90\n",
      "Sanskrit     91\n",
      "Physics      78\n",
      "Chemistry    81\n",
      "History      82\n",
      "Geography    76\n",
      "English      82\n",
      "Name: exam3, dtype: int64\n"
     ]
    }
   ],
   "source": [
    "#Selecting the same row using iloc\n",
    "print(dataframe.iloc[2]) # 2 is the index of exam3,in python indexing starts from 0"
   ]
  },
  {
   "cell_type": "code",
   "execution_count": 5,
   "metadata": {},
   "outputs": [
    {
     "data": {
      "text/plain": [
       "exam1    94\n",
       "exam2    89\n",
       "exam3    78\n",
       "exam4    80\n",
       "exam5    75\n",
       "Name: Physics, dtype: int64"
      ]
     },
     "execution_count": 5,
     "metadata": {},
     "output_type": "execute_result"
    }
   ],
   "source": [
    "#Selecting any column using loc\n",
    "dataframe.loc[:,'Physics']  #df.loc[R,C]"
   ]
  },
  {
   "cell_type": "code",
   "execution_count": 6,
   "metadata": {},
   "outputs": [
    {
     "data": {
      "text/plain": [
       "exam1    94\n",
       "exam2    89\n",
       "exam3    78\n",
       "exam4    80\n",
       "exam5    75\n",
       "Name: Physics, dtype: int64"
      ]
     },
     "execution_count": 6,
     "metadata": {},
     "output_type": "execute_result"
    }
   ],
   "source": [
    "#Selecting any column using iloc\n",
    "dataframe.iloc[:,2]  #df.iloc[R,C]"
   ]
  },
  {
   "cell_type": "code",
   "execution_count": 7,
   "metadata": {},
   "outputs": [
    {
     "data": {
      "text/plain": [
       "90"
      ]
     },
     "execution_count": 7,
     "metadata": {},
     "output_type": "execute_result"
    }
   ],
   "source": [
    "#Selecting specific value(Sanskrit marks in exam4) using loc\n",
    "dataframe.loc['exam4','Sanskrit']"
   ]
  },
  {
   "cell_type": "code",
   "execution_count": 8,
   "metadata": {},
   "outputs": [
    {
     "data": {
      "text/plain": [
       "90"
      ]
     },
     "execution_count": 8,
     "metadata": {},
     "output_type": "execute_result"
    }
   ],
   "source": [
    "#Selecting specific value(Sanskrit marks in exam4) using iloc\n",
    "dataframe.iloc[3,1]"
   ]
  },
  {
   "cell_type": "code",
   "execution_count": 10,
   "metadata": {},
   "outputs": [
    {
     "data": {
      "text/html": [
       "<div>\n",
       "<style scoped>\n",
       "    .dataframe tbody tr th:only-of-type {\n",
       "        vertical-align: middle;\n",
       "    }\n",
       "\n",
       "    .dataframe tbody tr th {\n",
       "        vertical-align: top;\n",
       "    }\n",
       "\n",
       "    .dataframe thead th {\n",
       "        text-align: right;\n",
       "    }\n",
       "</style>\n",
       "<table border=\"1\" class=\"dataframe\">\n",
       "  <thead>\n",
       "    <tr style=\"text-align: right;\">\n",
       "      <th></th>\n",
       "      <th>Physics</th>\n",
       "      <th>Chemistry</th>\n",
       "      <th>History</th>\n",
       "      <th>Geography</th>\n",
       "    </tr>\n",
       "  </thead>\n",
       "  <tbody>\n",
       "    <tr>\n",
       "      <th>exam2</th>\n",
       "      <td>89</td>\n",
       "      <td>85</td>\n",
       "      <td>80</td>\n",
       "      <td>75</td>\n",
       "    </tr>\n",
       "    <tr>\n",
       "      <th>exam3</th>\n",
       "      <td>78</td>\n",
       "      <td>81</td>\n",
       "      <td>82</td>\n",
       "      <td>76</td>\n",
       "    </tr>\n",
       "    <tr>\n",
       "      <th>exam4</th>\n",
       "      <td>80</td>\n",
       "      <td>81</td>\n",
       "      <td>78</td>\n",
       "      <td>72</td>\n",
       "    </tr>\n",
       "  </tbody>\n",
       "</table>\n",
       "</div>"
      ],
      "text/plain": [
       "       Physics  Chemistry  History  Geography\n",
       "exam2       89         85       80         75\n",
       "exam3       78         81       82         76\n",
       "exam4       80         81       78         72"
      ]
     },
     "execution_count": 10,
     "metadata": {},
     "output_type": "execute_result"
    }
   ],
   "source": [
    "#Selecting range of values from rows and columns using loc\n",
    "dataframe.loc['exam2':'exam4', 'Physics':'Geography']   "
   ]
  },
  {
   "cell_type": "code",
   "execution_count": 11,
   "metadata": {},
   "outputs": [
    {
     "data": {
      "text/html": [
       "<div>\n",
       "<style scoped>\n",
       "    .dataframe tbody tr th:only-of-type {\n",
       "        vertical-align: middle;\n",
       "    }\n",
       "\n",
       "    .dataframe tbody tr th {\n",
       "        vertical-align: top;\n",
       "    }\n",
       "\n",
       "    .dataframe thead th {\n",
       "        text-align: right;\n",
       "    }\n",
       "</style>\n",
       "<table border=\"1\" class=\"dataframe\">\n",
       "  <thead>\n",
       "    <tr style=\"text-align: right;\">\n",
       "      <th></th>\n",
       "      <th>Physics</th>\n",
       "      <th>Chemistry</th>\n",
       "      <th>History</th>\n",
       "      <th>Geography</th>\n",
       "    </tr>\n",
       "  </thead>\n",
       "  <tbody>\n",
       "    <tr>\n",
       "      <th>exam2</th>\n",
       "      <td>89</td>\n",
       "      <td>85</td>\n",
       "      <td>80</td>\n",
       "      <td>75</td>\n",
       "    </tr>\n",
       "    <tr>\n",
       "      <th>exam3</th>\n",
       "      <td>78</td>\n",
       "      <td>81</td>\n",
       "      <td>82</td>\n",
       "      <td>76</td>\n",
       "    </tr>\n",
       "    <tr>\n",
       "      <th>exam4</th>\n",
       "      <td>80</td>\n",
       "      <td>81</td>\n",
       "      <td>78</td>\n",
       "      <td>72</td>\n",
       "    </tr>\n",
       "  </tbody>\n",
       "</table>\n",
       "</div>"
      ],
      "text/plain": [
       "       Physics  Chemistry  History  Geography\n",
       "exam2       89         85       80         75\n",
       "exam3       78         81       82         76\n",
       "exam4       80         81       78         72"
      ]
     },
     "execution_count": 11,
     "metadata": {},
     "output_type": "execute_result"
    }
   ],
   "source": [
    "#Selecting range of values from rows and columns using iloc\n",
    "dataframe.iloc[1:4,2:6]   #Last index in not inclusive"
   ]
  },
  {
   "cell_type": "code",
   "execution_count": 12,
   "metadata": {},
   "outputs": [
    {
     "data": {
      "text/html": [
       "<div>\n",
       "<style scoped>\n",
       "    .dataframe tbody tr th:only-of-type {\n",
       "        vertical-align: middle;\n",
       "    }\n",
       "\n",
       "    .dataframe tbody tr th {\n",
       "        vertical-align: top;\n",
       "    }\n",
       "\n",
       "    .dataframe thead th {\n",
       "        text-align: right;\n",
       "    }\n",
       "</style>\n",
       "<table border=\"1\" class=\"dataframe\">\n",
       "  <thead>\n",
       "    <tr style=\"text-align: right;\">\n",
       "      <th></th>\n",
       "      <th>Maths</th>\n",
       "      <th>Sanskrit</th>\n",
       "      <th>Physics</th>\n",
       "      <th>Chemistry</th>\n",
       "      <th>History</th>\n",
       "      <th>Geography</th>\n",
       "      <th>English</th>\n",
       "    </tr>\n",
       "  </thead>\n",
       "  <tbody>\n",
       "    <tr>\n",
       "      <th>exam1</th>\n",
       "      <td>92</td>\n",
       "      <td>93</td>\n",
       "      <td>94</td>\n",
       "      <td>95</td>\n",
       "      <td>85</td>\n",
       "      <td>80</td>\n",
       "      <td>78</td>\n",
       "    </tr>\n",
       "    <tr>\n",
       "      <th>exam3</th>\n",
       "      <td>90</td>\n",
       "      <td>91</td>\n",
       "      <td>78</td>\n",
       "      <td>81</td>\n",
       "      <td>82</td>\n",
       "      <td>76</td>\n",
       "      <td>82</td>\n",
       "    </tr>\n",
       "    <tr>\n",
       "      <th>exam4</th>\n",
       "      <td>96</td>\n",
       "      <td>90</td>\n",
       "      <td>80</td>\n",
       "      <td>81</td>\n",
       "      <td>78</td>\n",
       "      <td>72</td>\n",
       "      <td>81</td>\n",
       "    </tr>\n",
       "  </tbody>\n",
       "</table>\n",
       "</div>"
      ],
      "text/plain": [
       "       Maths  Sanskrit  Physics  Chemistry  History  Geography  English\n",
       "exam1     92        93       94         95       85         80       78\n",
       "exam3     90        91       78         81       82         76       82\n",
       "exam4     96        90       80         81       78         72       81"
      ]
     },
     "execution_count": 12,
     "metadata": {},
     "output_type": "execute_result"
    }
   ],
   "source": [
    "#Selecting rows with condition\n",
    "dataframe.loc[dataframe.Maths >= 90]"
   ]
  },
  {
   "cell_type": "code",
   "execution_count": 13,
   "metadata": {},
   "outputs": [
    {
     "data": {
      "text/html": [
       "<div>\n",
       "<style scoped>\n",
       "    .dataframe tbody tr th:only-of-type {\n",
       "        vertical-align: middle;\n",
       "    }\n",
       "\n",
       "    .dataframe tbody tr th {\n",
       "        vertical-align: top;\n",
       "    }\n",
       "\n",
       "    .dataframe thead th {\n",
       "        text-align: right;\n",
       "    }\n",
       "</style>\n",
       "<table border=\"1\" class=\"dataframe\">\n",
       "  <thead>\n",
       "    <tr style=\"text-align: right;\">\n",
       "      <th></th>\n",
       "      <th>Maths</th>\n",
       "      <th>Sanskrit</th>\n",
       "      <th>Physics</th>\n",
       "      <th>Chemistry</th>\n",
       "      <th>History</th>\n",
       "      <th>Geography</th>\n",
       "      <th>English</th>\n",
       "    </tr>\n",
       "  </thead>\n",
       "  <tbody>\n",
       "    <tr>\n",
       "      <th>exam3</th>\n",
       "      <td>90</td>\n",
       "      <td>91</td>\n",
       "      <td>78</td>\n",
       "      <td>81</td>\n",
       "      <td>82</td>\n",
       "      <td>76</td>\n",
       "      <td>82</td>\n",
       "    </tr>\n",
       "    <tr>\n",
       "      <th>exam4</th>\n",
       "      <td>96</td>\n",
       "      <td>90</td>\n",
       "      <td>80</td>\n",
       "      <td>81</td>\n",
       "      <td>78</td>\n",
       "      <td>72</td>\n",
       "      <td>81</td>\n",
       "    </tr>\n",
       "  </tbody>\n",
       "</table>\n",
       "</div>"
      ],
      "text/plain": [
       "       Maths  Sanskrit  Physics  Chemistry  History  Geography  English\n",
       "exam3     90        91       78         81       82         76       82\n",
       "exam4     96        90       80         81       78         72       81"
      ]
     },
     "execution_count": 13,
     "metadata": {},
     "output_type": "execute_result"
    }
   ],
   "source": [
    "dataframe.loc[(dataframe.Maths >= 90) & (dataframe.English >= 80)]"
   ]
  },
  {
   "cell_type": "code",
   "execution_count": 14,
   "metadata": {},
   "outputs": [
    {
     "data": {
      "text/html": [
       "<div>\n",
       "<style scoped>\n",
       "    .dataframe tbody tr th:only-of-type {\n",
       "        vertical-align: middle;\n",
       "    }\n",
       "\n",
       "    .dataframe tbody tr th {\n",
       "        vertical-align: top;\n",
       "    }\n",
       "\n",
       "    .dataframe thead th {\n",
       "        text-align: right;\n",
       "    }\n",
       "</style>\n",
       "<table border=\"1\" class=\"dataframe\">\n",
       "  <thead>\n",
       "    <tr style=\"text-align: right;\">\n",
       "      <th></th>\n",
       "      <th>Maths</th>\n",
       "      <th>Sanskrit</th>\n",
       "      <th>Physics</th>\n",
       "      <th>Chemistry</th>\n",
       "      <th>History</th>\n",
       "      <th>Geography</th>\n",
       "      <th>English</th>\n",
       "      <th>Total</th>\n",
       "    </tr>\n",
       "  </thead>\n",
       "  <tbody>\n",
       "    <tr>\n",
       "      <th>exam1</th>\n",
       "      <td>92</td>\n",
       "      <td>93</td>\n",
       "      <td>94</td>\n",
       "      <td>95</td>\n",
       "      <td>85</td>\n",
       "      <td>80</td>\n",
       "      <td>78</td>\n",
       "      <td>617</td>\n",
       "    </tr>\n",
       "    <tr>\n",
       "      <th>exam2</th>\n",
       "      <td>87</td>\n",
       "      <td>91</td>\n",
       "      <td>89</td>\n",
       "      <td>85</td>\n",
       "      <td>80</td>\n",
       "      <td>75</td>\n",
       "      <td>83</td>\n",
       "      <td>590</td>\n",
       "    </tr>\n",
       "    <tr>\n",
       "      <th>exam3</th>\n",
       "      <td>90</td>\n",
       "      <td>91</td>\n",
       "      <td>78</td>\n",
       "      <td>81</td>\n",
       "      <td>82</td>\n",
       "      <td>76</td>\n",
       "      <td>82</td>\n",
       "      <td>580</td>\n",
       "    </tr>\n",
       "    <tr>\n",
       "      <th>exam4</th>\n",
       "      <td>96</td>\n",
       "      <td>90</td>\n",
       "      <td>80</td>\n",
       "      <td>81</td>\n",
       "      <td>78</td>\n",
       "      <td>72</td>\n",
       "      <td>81</td>\n",
       "      <td>578</td>\n",
       "    </tr>\n",
       "    <tr>\n",
       "      <th>exam5</th>\n",
       "      <td>88</td>\n",
       "      <td>90</td>\n",
       "      <td>75</td>\n",
       "      <td>71</td>\n",
       "      <td>82</td>\n",
       "      <td>72</td>\n",
       "      <td>83</td>\n",
       "      <td>561</td>\n",
       "    </tr>\n",
       "  </tbody>\n",
       "</table>\n",
       "</div>"
      ],
      "text/plain": [
       "       Maths  Sanskrit  Physics  Chemistry  History  Geography  English  Total\n",
       "exam1     92        93       94         95       85         80       78    617\n",
       "exam2     87        91       89         85       80         75       83    590\n",
       "exam3     90        91       78         81       82         76       82    580\n",
       "exam4     96        90       80         81       78         72       81    578\n",
       "exam5     88        90       75         71       82         72       83    561"
      ]
     },
     "execution_count": 14,
     "metadata": {},
     "output_type": "execute_result"
    }
   ],
   "source": [
    "#Sum along the row\n",
    "dataframe['Total']=dataframe.iloc[:,:].sum(axis=1) #Axis 1 means horizontally axis 0 means vertically\n",
    "dataframe"
   ]
  },
  {
   "cell_type": "code",
   "execution_count": null,
   "metadata": {},
   "outputs": [],
   "source": []
  }
 ],
 "metadata": {
  "kernelspec": {
   "display_name": "Python 3",
   "language": "python",
   "name": "python3"
  },
  "language_info": {
   "codemirror_mode": {
    "name": "ipython",
    "version": 3
   },
   "file_extension": ".py",
   "mimetype": "text/x-python",
   "name": "python",
   "nbconvert_exporter": "python",
   "pygments_lexer": "ipython3",
   "version": "3.7.7"
  }
 },
 "nbformat": 4,
 "nbformat_minor": 4
}
